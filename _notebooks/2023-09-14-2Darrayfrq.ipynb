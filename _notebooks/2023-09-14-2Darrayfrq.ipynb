{
 "cells": [
  {
   "cell_type": "markdown",
   "metadata": {},
   "source": [
    "---\n",
    "title: 2D Array FRQ\n",
    "description: Free Response Question Hacks\n",
    "layout: default\n",
    "courses: { csse: {week: 5}, csp: {week: 3, categories: [1.A, 3.B]}, csa: {week: 2} }\n",
    "type: ccc\n",
    "week: 4\n",
    "---"
   ]
  },
  {
   "cell_type": "code",
   "execution_count": null,
   "metadata": {
    "vscode": {
     "languageId": "java"
    }
   },
   "outputs": [
    {
     "ename": "CompilationException",
     "evalue": "",
     "output_type": "error",
     "traceback": [
      "\u001b[1m\u001b[30m|   \u001b[1m\u001b[30m            count++\u001b[0m\u001b[1m\u001b[30m\u001b[41m\u001b[0m\u001b[1m\u001b[30m\u001b[0m",
      "\u001b[1m\u001b[31m';' expected\u001b[0m",
      ""
     ]
    }
   ],
   "source": [
    "public boolean moveCandyToFirstRow(int col)\n",
    "{\n",
    "    if (box[0][col] != null)\n",
    "    {\n",
    "        return true;\n",
    "    }\n",
    "    for (int row = 1; row < box.length; row++)\n",
    "    {\n",
    "        if (box[row][col] != null)\n",
    "        {\n",
    "            box[0][col] = box[row][col];\n",
    "            box[row][col] = null;\n",
    "            return true;\n",
    "        }\n",
    "    }\n",
    "    return false;\n",
    "}"
   ]
  },
  {
   "cell_type": "code",
   "execution_count": null,
   "metadata": {
    "vscode": {
     "languageId": "java"
    }
   },
   "outputs": [],
   "source": [
    "public Candy removeNextByFlavor(String flavor)\n",
    "{\n",
    "    for (int row = box.length - 1; row >= 0; row--)\n",
    "    {\n",
    "        for (int col = 0; col < box[0].length; col++)\n",
    "        {\n",
    "            if (box[row][col] != null &&\n",
    "                box[row][col].getFlavor().equals(flavor))\n",
    "            {\n",
    "                Candy taken = box[row][col];\n",
    "                box[row][col] = null;\n",
    "                return taken;\n",
    "            }\n",
    "        }\n",
    "    }\n",
    "    return null;\n",
    "}"
   ]
  }
 ],
 "metadata": {
  "kernelspec": {
   "display_name": "Java",
   "language": "java",
   "name": "java"
  },
  "language_info": {
   "codemirror_mode": "java",
   "file_extension": ".jshell",
   "mimetype": "text/x-java-source",
   "name": "Java",
   "pygments_lexer": "java",
   "version": "12.0.2+10"
  }
 },
 "nbformat": 4,
 "nbformat_minor": 2
}
