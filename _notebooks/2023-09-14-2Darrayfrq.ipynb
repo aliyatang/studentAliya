{
 "cells": [
  {
   "cell_type": "markdown",
   "metadata": {},
   "source": [
    "---\n",
    "title: 2D Array FRQ\n",
    "description: Free Response Question Hacks\n",
    "layout: default\n",
    "courses: { csse: {week: 5}, csp: {week: 3, categories: [1.A, 3.B]}, csa: {week: 2} }\n",
    "type: ccc\n",
    "week: 4\n",
    "---"
   ]
  },
  {
   "cell_type": "markdown",
   "metadata": {},
   "source": [
    "- From the 2023 FRQ: [Click Here](https://apcentral.collegeboard.org/media/pdf/ap23-frq-comp-sci-a.pdf)"
   ]
  },
  {
   "cell_type": "code",
   "execution_count": null,
   "metadata": {
    "vscode": {
     "languageId": "java"
    }
   },
   "outputs": [],
   "source": [
    "// This question involves pieces of candy in a box. The Candy class represents a single piece of candy.\n",
    "public class Candy\n",
    "{\n",
    "    /** Returns a String representing the flavor of this piece of candy */\n",
    "    public String getFlavor()\n",
    "    { /* implementation not shown */ }\n",
    "    // There may be instance variables, constructors, and methods that are not shown.\n",
    "}\n",
    "/** The BoxOfCandy class represents a candy box where the candy is arranged in a rectangular grid. The\n",
    "instance variable of the class, box, is a rectangular two-dimensional array of Candy objects. A location\n",
    "in the candy box may contain a piece of candy or may be empty. A piece of candy is represented by a\n",
    "Candy object. An empty location is represented by null.\n",
    "You will write two methods of the BoxOfCandy class. */\n",
    "public class BoxOfCandy\n",
    "{\n",
    "    /** box contains at least one row and is initialized in the constructor. */\n",
    "    private Candy[][] box;\n",
    "    /**\n",
    "    * Moves one piece of candy in column col, if necessary and possible, so that the box\n",
    "    * element in row 0 of column col contains a piece of candy, as described in part (a).\n",
    "    * Returns false if there is no piece of candy in column col and returns true otherwise.\n",
    "    * Precondition: col is a valid column index in box.\n",
    "    */\n",
    "    public boolean moveCandyToFirstRow(int col)\n",
    "    { /* to be implemented in part (a) */ }\n",
    "    /**\n",
    "    * Removes from box and returns a piece of candy with flavor specified by the parameter, or\n",
    "    * returns null if no such piece is found, as described in part (b)\n",
    "    */\n",
    "    public Candy removeNextByFlavor(String flavor)\n",
    "    { /* to be implemented in part (b) */ }\n",
    "    // There may be instance variables, constructors, and methods that are not shown.\n",
    "}\n"
   ]
  },
  {
   "attachments": {},
   "cell_type": "markdown",
   "metadata": {},
   "source": [
    "moveCandyToFirstRow is a method that moves a piece of candy to the first row of a 2D box (grid/table with rows and columns) of candies. Here are some key learning points: \n",
    "- Conditional checking: checks if there is already candy in first row and specified column. If there is, then no changes are made. \n",
    "- Iterative process: Iterates through rows of 2D candy box, using for loop\n",
    "- Moving and removing: When candy found, it's moved to the first row and the specified column, and removed from the original position. This demonstrates data manipulation in an array. \n",
    "- Return values: Method returns true if successfully moves candy and false if it doesn't, indicating success or failure of an operation with return values"
   ]
  },
  {
   "cell_type": "code",
   "execution_count": null,
   "metadata": {
    "vscode": {
     "languageId": "java"
    }
   },
   "outputs": [],
   "source": [
    "// method that belongs to BoxOfCandy class, move candy to first row of 2d box (2d array)\n",
    "// takes parameter specified column number col\n",
    "public boolean moveCandyToFirstRow(int col)\n",
    "{\n",
    "    // check if element at row 0 (first row) and specified col already has candy\n",
    "    if(box[0][col] != null)\n",
    "    {\n",
    "        // if there is candy, no need to move anything\n",
    "        return true;\n",
    "    }\n",
    "    \n",
    "    // iterate through remaining rows and cols\n",
    "    // start from row 1 (second row)\n",
    "    for(int row = 1; row < box.length; row++)\n",
    "    {\n",
    "        // check if current row and col has candy\n",
    "        if(box[row][col] != null)\n",
    "        {\n",
    "            // if there is candy\n",
    "            // move candy to row 0 and specified col\n",
    "            box[0][col] = box[row][col];\n",
    "            // set prev location of candy to null (remove it from og position)\n",
    "            box[row][col] = null;\n",
    "            // return true to indicate move success\n",
    "            return true;\n",
    "        }\n",
    "    }\n",
    "    // no candy found in specified col\n",
    "    // return false to indicate move unsuccess\n",
    "    return false;\n",
    "}"
   ]
  },
  {
   "attachments": {},
   "cell_type": "markdown",
   "metadata": {},
   "source": [
    "Scoring Criteria: 4/4\n",
    "- Accesses all needed elements of col of box (NO BOUND ERRORS-> trying to access element outside the bound of the array cause errors)\n",
    "- Compare candy box element to null, must use != or equivalent\n",
    "- Move candy to first row and REPLACE MOVED CANDY WITH NULL, can still earn the point but must return true when non-empty square is identified and false if non-empty square"
   ]
  },
  {
   "cell_type": "markdown",
   "metadata": {},
   "source": [
    "removeNextByFlavor is a method that removes and returns the next piece of candy with a specific flavor from a 2D box (grid/table with rows and columns) of candies. Here are some key learning points: \n",
    "- Nested loops: uses to traverse the 2D candy box, visiting each element in a multi-dimensional array\n",
    "- Conditional checking: within loops, checks if candy in current box element matches the specified flavor, filitering and selecting specific elements in a data structure\n",
    "- Candy selection: when candy found with specified flavor, it stores that candy in a varible and removes it from the box\n",
    "- Return values: Indicates result if selected candy is found or not found, same indication (success/failure) as above"
   ]
  },
  {
   "cell_type": "code",
   "execution_count": null,
   "metadata": {
    "vscode": {
     "languageId": "java"
    }
   },
   "outputs": [],
   "source": [
    "// method that belongs to BoxOfCandy class, remove candy with specified flavor\n",
    "// takes parameter specified flavor\n",
    "public Candy removeNextByFlavor(String flavor)\n",
    "{\n",
    "    // nested loops to traverse candy box starting from last row, moving up\n",
    "    // traverse - visit each element in array\n",
    "    for(int row = box.length - 1; row >= 0; row--)\n",
    "    {\n",
    "        for(int col = 0; col < box[0].length; col++)\n",
    "        {\n",
    "            // check if current box element has candy AND if flavor matches specified flavor\n",
    "            // call getFlavor on Candy object to check flavor\n",
    "            if(box[row][col] != null &&\n",
    "                    box[row][col].getFlavor().equals(flavor))\n",
    "            {\n",
    "                // store selected candy\n",
    "                Candy selected = box[row][col];\n",
    "                // **remove candy from box by set box element to null \n",
    "                box[row][col] = null;\n",
    "                // return the removed selected candy\n",
    "                return selected;\n",
    "            }\n",
    "        }\n",
    "    }\n",
    "    // no candy with specified flavor found\n",
    "    // return false to indicate flavor search unsuccess\n",
    "    return null;\n",
    "}"
   ]
  },
  {
   "attachments": {},
   "cell_type": "markdown",
   "metadata": {},
   "source": [
    "Self grading: 5/5\n",
    "- traverse box in specified order with no bound errors (row backwards is --row)\n",
    "- guard against method call on null(result in NullPOinterExceptions) must use != or equivalent\n",
    "- call getFlavor on Candy object\n",
    "- Compare candy object flavor with flavor parameter\n",
    "- replace candy object with null and return the candy"
   ]
  },
  {
   "cell_type": "code",
   "execution_count": null,
   "metadata": {
    "vscode": {
     "languageId": "java"
    }
   },
   "outputs": [],
   "source": []
  },
  {
   "cell_type": "code",
   "execution_count": 11,
   "metadata": {
    "vscode": {
     "languageId": "java"
    }
   },
   "outputs": [],
   "source": [
    "import java.util.Scanner;\n",
    "// This question involves pieces of candy in a box. The Candy class represents a single piece of candy.\n",
    "public class Candy\n",
    "{\n",
    "    /** Returns a String representing the flavor of this piece of candy */\n",
    "    public String getFlavor()\n",
    "    { \n",
    "        return flavor;\n",
    "    }\n",
    "    // There may be instance variables, constructors, and methods that are not shown.\n",
    "}\n",
    "/** The BoxOfCandy class represents a candy box where the candy is arranged in a rectangular grid. The\n",
    "instance variable of the class, box, is a rectangular two-dimensional array of Candy objects. A location\n",
    "in the candy box may contain a piece of candy or may be empty. A piece of candy is represented by a\n",
    "Candy object. An empty location is represented by null.\n",
    "You will write two methods of the BoxOfCandy class. */\n",
    "public class BoxOfCandy\n",
    "{\n",
    "    /** box contains at least one row and is initialized in the constructor. */\n",
    "    private Candy[][] box;\n",
    "    /**\n",
    "    * Moves one piece of candy in column col, if necessary and possible, so that the box\n",
    "    * element in row 0 of column col contains a piece of candy, as described in part (a).\n",
    "    * Returns false if there is no piece of candy in column col and returns true otherwise.\n",
    "    * Precondition: col is a valid column index in box.\n",
    "    */\n",
    "    // method, move candy to first row of 2d box (2d array)\n",
    "    public boolean moveCandyToFirstRow(int col)\n",
    "    {\n",
    "        // check if element at row 0 (first row) and specified col already has candy\n",
    "        if(box[0][col] != null)\n",
    "        {\n",
    "            // if there is candy, no need to move anything\n",
    "            return true;\n",
    "        }\n",
    "        \n",
    "        // iterate through remaining rows and cols\n",
    "        // start from row 1 (second row)\n",
    "        for(int row = 1; row < box.length; row++)\n",
    "        {\n",
    "            // check if current row and col has candy\n",
    "            if(box[row][col] != null)\n",
    "            {\n",
    "                // if there is candy\n",
    "                // move candy to row 0 and specified col\n",
    "                box[0][col] = box[row][col];\n",
    "                // set prev location of candy to null (remove it from og position)\n",
    "                box[row][col] = null;\n",
    "                // return true to indicate move success\n",
    "                return true;\n",
    "            }\n",
    "        }\n",
    "        // no candy found in specified col\n",
    "        // return false to indicate move unsuccess\n",
    "        return false;\n",
    "    }\n",
    "    /**\n",
    "    * Removes from box and returns a piece of candy with flavor specified by the parameter, or\n",
    "    * returns null if no such piece is found, as described in part (b)\n",
    "    */\n",
    "    public Candy removeNextByFlavor(String flavor)\n",
    "    {\n",
    "        // traverse candy box starting from last row, moving up\n",
    "        // traverse - visit each element in array\n",
    "        for(int row = box.length - 1; row >= 0; row--)\n",
    "        {\n",
    "            for(int col = 0; col < box[0].length; col++)\n",
    "            {\n",
    "                // check if current box element has candy AND if flavor matches specified flavor\n",
    "                if(box[row][col] != null &&\n",
    "                        box[row][col].getFlavor().equals(flavor))\n",
    "                {\n",
    "                    // store selected candy\n",
    "                    Candy selected = box[row][col];\n",
    "                    // remove candy from box by set box element to null \n",
    "                    box[row][col] = null;\n",
    "                    // return the removed selected candy\n",
    "                    return selected;\n",
    "                }\n",
    "            }\n",
    "        }\n",
    "        // no candy with specified flavor found\n",
    "        // return false to indicate flavor search unsuccess\n",
    "        return null;\n",
    "    }\n",
    "    // There may be instance variables, constructors, and methods that are not shown.\n",
    "}\n"
   ]
  }
 ],
 "metadata": {
  "kernelspec": {
   "display_name": "Java",
   "language": "java",
   "name": "java"
  },
  "language_info": {
   "codemirror_mode": "java",
   "file_extension": ".jshell",
   "mimetype": "text/x-java-source",
   "name": "Java",
   "pygments_lexer": "java",
   "version": "12.0.2+10"
  }
 },
 "nbformat": 4,
 "nbformat_minor": 2
}
