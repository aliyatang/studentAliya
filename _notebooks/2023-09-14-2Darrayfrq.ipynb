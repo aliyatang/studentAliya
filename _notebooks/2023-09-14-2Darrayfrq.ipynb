{
 "cells": [
  {
   "cell_type": "markdown",
   "metadata": {},
   "source": [
    "---\n",
    "title: 2D Array FRQ\n",
    "description: Free Response Question Hacks\n",
    "layout: default\n",
    "courses: { csse: {week: 5}, csp: {week: 3, categories: [1.A, 3.B]}, csa: {week: 2} }\n",
    "type: ccc\n",
    "week: 4\n",
    "---"
   ]
  },
  {
   "attachments": {},
   "cell_type": "markdown",
   "metadata": {},
   "source": [
    "## 2D ARRAY\n",
    "- From the 2023 FRQ: [Click Here](https://apcentral.collegeboard.org/media/pdf/ap23-frq-comp-sci-a.pdf)"
   ]
  },
  {
   "attachments": {},
   "cell_type": "markdown",
   "metadata": {},
   "source": [
    "### PART A\n",
    "moveCandyToFirstRow is a method that moves a piece of candy to the first row of a 2D box (grid/table with rows and columns) of candies. Here are some key learning points: \n",
    "- Conditional checking: checks if there is already candy in first row and specified column. If there is, then no changes are made. \n",
    "- Iterative process: Iterates through rows of 2D candy box, using for loop\n",
    "- Moving and removing: When candy found, it's moved to the first row and the specified column, and removed from the original position. This demonstrates data manipulation in an array. \n",
    "- Return values: Method returns true if successfully moves candy and false if it doesn't, indicating success or failure of an operation with return values"
   ]
  },
  {
   "attachments": {},
   "cell_type": "markdown",
   "metadata": {},
   "source": [
    "![This is an image](https://user-images.githubusercontent.com/111466919/269474454-452e63e5-0829-4889-83e9-69cd5ee73c6e.png)"
   ]
  },
  {
   "cell_type": "code",
   "execution_count": 2,
   "metadata": {
    "vscode": {
     "languageId": "java"
    }
   },
   "outputs": [],
   "source": [
    "// method that belongs to BoxOfCandy class, move candy to first row of 2d box (2d array)\n",
    "// takes parameter specified column number col\n",
    "public boolean moveCandyToFirstRow(int col)\n",
    "{\n",
    "    // check if element at row 0 (first row) and specified col already has candy\n",
    "    if(box[0][col] != null)\n",
    "    {\n",
    "        // if there is candy, no need to move anything\n",
    "        return true;\n",
    "    }\n",
    "    \n",
    "    // iterate through remaining rows and cols\n",
    "    // start from row 1 (second row)\n",
    "    for(int row = 1; row < box.length; row++)\n",
    "    {\n",
    "        // check if current row and col has candy\n",
    "        if(box[row][col] != null)\n",
    "        {\n",
    "            // if there is candy\n",
    "            // move candy to row 0 and specified col\n",
    "            box[0][col] = box[row][col];\n",
    "            // set prev location of candy to null (remove it from og position)\n",
    "            box[row][col] = null;\n",
    "            // return true to indicate move success\n",
    "            return true;\n",
    "        }\n",
    "    }\n",
    "    // no candy found in specified col\n",
    "    // return false to indicate move unsuccess\n",
    "    return false;\n",
    "}"
   ]
  },
  {
   "cell_type": "markdown",
   "metadata": {},
   "source": [
    "Scoring Criteria: 4/4\n",
    "- Accesses all needed elements of col of box (NO BOUND ERRORS-> trying to access element outside the bound of the array cause errors)\n",
    "- Compare candy box element to null, must use != or equivalent\n",
    "- Move candy to first row and REPLACE MOVED CANDY WITH NULL, can still earn the point but must return true when non-empty square is identified and false if non-empty square"
   ]
  },
  {
   "attachments": {},
   "cell_type": "markdown",
   "metadata": {},
   "source": [
    "### PART B\n",
    "\n",
    "removeNextByFlavor is a method that removes and returns the next piece of candy with a specific flavor from a 2D box (grid/table with rows and columns) of candies. Here are some key learning points: \n",
    "- Nested loops: uses to traverse the 2D candy box, visiting each element in a multi-dimensional array\n",
    "- Conditional checking: within loops, checks if candy in current box element matches the specified flavor, filitering and selecting specific elements in a data structure\n",
    "- Candy selection: when candy found with specified flavor, it stores that candy in a varible and removes it from the box\n",
    "- Return values: Indicates result if selected candy is found or not found, same indication (success/failure) as above"
   ]
  },
  {
   "attachments": {},
   "cell_type": "markdown",
   "metadata": {},
   "source": [
    "![This is an image](https://user-images.githubusercontent.com/111466919/269474430-b5b3d38a-682c-45d1-81a2-1d814b4cede7.png)"
   ]
  },
  {
   "cell_type": "code",
   "execution_count": 3,
   "metadata": {
    "vscode": {
     "languageId": "java"
    }
   },
   "outputs": [
    {
     "ename": "CompilationException",
     "evalue": "",
     "output_type": "error",
     "traceback": [
      "\u001b[1m\u001b[30m|   \u001b[1m\u001b[30m// method that belongs to BoxOfCandy class, remove candy with specified flavor\u001b[0m",
      "\u001b[1m\u001b[30m|   \u001b[1m\u001b[30m// takes parameter specified flavor\u001b[0m",
      "\u001b[1m\u001b[30m|   \u001b[1m\u001b[30mpublic Candy removeNextByFlavor(String flavor)\u001b[0m",
      "\u001b[1m\u001b[30m|   \u001b[1m\u001b[30m{\u001b[0m",
      "\u001b[1m\u001b[30m|   \u001b[1m\u001b[30m    // nested loops to traverse candy box starting from last row, moving up\u001b[0m",
      "\u001b[1m\u001b[30m|   \u001b[1m\u001b[30m    // traverse - visit each element in array\u001b[0m",
      "\u001b[1m\u001b[30m|   \u001b[1m\u001b[30m    for(int row = box.length - 1; row >= 0; row--)\u001b[0m",
      "\u001b[1m\u001b[30m|   \u001b[1m\u001b[30m    {\u001b[0m",
      "\u001b[1m\u001b[30m|   \u001b[1m\u001b[30m        for(int col = 0; col < box[0].length; col++)\u001b[0m",
      "\u001b[1m\u001b[30m|   \u001b[1m\u001b[30m        {\u001b[0m",
      "\u001b[1m\u001b[30m|   \u001b[1m\u001b[30m            // check if current box element has candy AND if flavor matches specified flavor\u001b[0m",
      "\u001b[1m\u001b[30m|   \u001b[1m\u001b[30m            // call getFlavor on Candy object to check flavor\u001b[0m",
      "\u001b[1m\u001b[30m|   \u001b[1m\u001b[30m            if(box[row][col] != null &&\u001b[0m",
      "\u001b[1m\u001b[30m|   \u001b[1m\u001b[30m                    box[row][col].getFlavor().equals(flavor))\u001b[0m",
      "\u001b[1m\u001b[30m|   \u001b[1m\u001b[30m            {\u001b[0m",
      "\u001b[1m\u001b[30m|   \u001b[1m\u001b[30m                // store selected candy\u001b[0m",
      "\u001b[1m\u001b[30m|   \u001b[1m\u001b[30m                Candy selected = box[row][col];\u001b[0m",
      "\u001b[1m\u001b[30m|   \u001b[1m\u001b[30m                // **remove candy from box by set box element to null \u001b[0m",
      "\u001b[1m\u001b[30m|   \u001b[1m\u001b[30m                box[row][col] = null;\u001b[0m",
      "\u001b[1m\u001b[30m|   \u001b[1m\u001b[30m                // return the removed selected candy\u001b[0m",
      "\u001b[1m\u001b[30m|   \u001b[1m\u001b[30m                return selected;\u001b[0m",
      "\u001b[1m\u001b[30m|   \u001b[1m\u001b[30m            }\u001b[0m",
      "\u001b[1m\u001b[30m|   \u001b[1m\u001b[30m        }\u001b[0m",
      "\u001b[1m\u001b[30m|   \u001b[1m\u001b[30m    }\u001b[0m",
      "\u001b[1m\u001b[30m|   \u001b[1m\u001b[30m    // no candy with specified flavor found\u001b[0m",
      "\u001b[1m\u001b[30m|   \u001b[1m\u001b[30m    // return false to indicate flavor search unsuccess\u001b[0m",
      "\u001b[1m\u001b[30m|   \u001b[1m\u001b[30m    return null;\u001b[0m",
      "\u001b[1m\u001b[30m|   \u001b[1m\u001b[30m}\u001b[0m",
      "\u001b[1m\u001b[31mUnresolved dependencies:\u001b[0m",
      "\u001b[1m\u001b[31m   - class Candy\u001b[0m",
      "\u001b[1m\u001b[31m   - variable box\u001b[0m"
     ]
    }
   ],
   "source": [
    "// method that belongs to BoxOfCandy class, remove candy with specified flavor\n",
    "// takes parameter specified flavor\n",
    "public Candy removeNextByFlavor(String flavor)\n",
    "{\n",
    "    // nested loops to traverse candy box starting from last row, moving up\n",
    "    // traverse - visit each element in array\n",
    "    for(int row = box.length - 1; row >= 0; row--)\n",
    "    {\n",
    "        for(int col = 0; col < box[0].length; col++)\n",
    "        {\n",
    "            // check if current box element has candy AND if flavor matches specified flavor\n",
    "            // call getFlavor on Candy object to check flavor\n",
    "            if(box[row][col] != null &&\n",
    "                    box[row][col].getFlavor().equals(flavor))\n",
    "            {\n",
    "                // store selected candy\n",
    "                Candy selected = box[row][col];\n",
    "                // **remove candy from box by set box element to null \n",
    "                box[row][col] = null;\n",
    "                // return the removed selected candy\n",
    "                return selected;\n",
    "            }\n",
    "        }\n",
    "    }\n",
    "    // no candy with specified flavor found\n",
    "    // return false to indicate flavor search unsuccess\n",
    "    return null;\n",
    "}"
   ]
  },
  {
   "cell_type": "markdown",
   "metadata": {},
   "source": [
    "Self grading: 5/5\n",
    "- traverse box in specified order with no bound errors (row backwards is --row)\n",
    "- guard against method call on null(result in NullPOinterExceptions) must use != or equivalent\n",
    "- call getFlavor on Candy object\n",
    "- Compare candy object flavor with flavor parameter\n",
    "- replace candy object with null and return the candy"
   ]
  },
  {
   "cell_type": "code",
   "execution_count": 6,
   "metadata": {
    "vscode": {
     "languageId": "java"
    }
   },
   "outputs": [],
   "source": [
    "import java.util.Scanner;\n",
    "\n",
    "// This question involves pieces of candy in a box. The Candy class represents a single piece of candy.\n",
    "class Candy {\n",
    "    String flavor; // class member\n",
    "    \n",
    "    // constructor for default flavor (for when no input flavor yet)\n",
    "    public Candy() {\n",
    "        flavor = \"empty\";\n",
    "    }\n",
    "    \n",
    "    // constructor for input flavor\n",
    "    public Candy(String inputflavor) {\n",
    "        flavor = inputflavor;\n",
    "    }\n",
    "    \n",
    "    void setFlavor(String inputflavor) {\n",
    "        flavor = inputflavor;\n",
    "    }\n",
    "    public String getFlavor() {\n",
    "        return flavor;\n",
    "    }\n",
    "    \n",
    "    // There may be instance variables, constructors, and methods that are not\n",
    "    // shown.\n",
    "}\n",
    "\n",
    "public class BoxOfCandy {\n",
    "    private Candy[][] box;\n",
    "    Scanner input = new Scanner(System.in); // scanner for user input\n",
    "\n",
    "    // allocate/assign memory\n",
    "    public BoxOfCandy(int row, int col) {\n",
    "        box = new Candy[row][];\n",
    "        for (int j = 0; j<row; j++) {\n",
    "            box[j] = new Candy[col];\n",
    "        }\n",
    "    }\n",
    "    \n",
    "    // PART A\n",
    "    // method, move candy to first row of 2d box (2d array)\n",
    "    public boolean moveCandyToFirstRow(int col) {\n",
    "        // check if element at row 0 (first row) and specified col already has candy\n",
    "        if (box[0][col] != null) {\n",
    "            // if there is candy, no need to move anything\n",
    "            return true;\n",
    "        }\n",
    "\n",
    "        // iterate through remaining rows and cols\n",
    "        // start from row 1 (second row)\n",
    "        for (int row = 1; row < box.length; row++) {\n",
    "            // check if current row and col has candy\n",
    "            if (box[row][col] != null) {\n",
    "                // if there is candy\n",
    "                // move candy to row 0 and specified col\n",
    "                box[0][col] = box[row][col];\n",
    "                // set prev location of candy to null (remove it from og position)\n",
    "                box[row][col] = null;\n",
    "                // return true to indicate move success\n",
    "                return true;\n",
    "            }\n",
    "        }\n",
    "        // no candy found in specified col\n",
    "        // return false to indicate move unsuccess\n",
    "        return false;\n",
    "    }\n",
    "\n",
    "    // PART B\n",
    "    // method that removes specific candy by flavor\n",
    "    public Candy removeNextByFlavor(String flavor) {\n",
    "        // traverse candy box starting from last row, moving up\n",
    "        // traverse - visit each element in array\n",
    "        for (int row = box.length - 1; row >= 0; row--) {\n",
    "            for (int col = 0; col < box[0].length; col++) {\n",
    "                // check if current box element has candy AND if flavor matches specified flavor\n",
    "                if (box[row][col] != null &&\n",
    "                        box[row][col].getFlavor().equals(flavor)) {\n",
    "                    // store selected candy\n",
    "                    Candy selected = box[row][col];\n",
    "                    // remove candy from box by set box element to null\n",
    "                    box[row][col] = null;\n",
    "                    // return the removed selected candy\n",
    "                    return selected;\n",
    "                }\n",
    "            }\n",
    "        }\n",
    "        // no candy with specified flavor found\n",
    "        // return false to indicate flavor search unsuccess\n",
    "        return null;\n",
    "    }\n",
    "\n",
    "    // Main method for testing\n",
    "    public static void main(String[] args) {\n",
    "        BoxOfCandy candyBox = new BoxOfCandy(5, 5); // initiating object candyBox, 5 by 5 box of candy\n",
    "\n",
    "        // Get user input for specified column and move candy to the first row     // PART B\n",
    "        // make sure input is valid so no bound errors - *TODO\n",
    "        System.out.print(\"Enter the column index(0-4): \");\n",
    "        int col = candyBox.input.nextInt();\n",
    "        boolean moveSuccess = candyBox.moveCandyToFirstRow(col);\n",
    "\n",
    "        if (moveSuccess) {\n",
    "            System.out.println(\"Candy moved successfully to the first row.\");\n",
    "        } else {\n",
    "            System.out.println(\"No candy found in the specified column.\");\n",
    "        }\n",
    "\n",
    "        // PART B\n",
    "        // Get user input and remove candy by flavor - *TODO\n",
    "        System.out.print(\"Enter the flavor of candy to remove: \");\n",
    "        String flavor = candyBox.input.next();\n",
    "        Candy removeSuccess = candyBox.removeNextByFlavor(flavor);\n",
    "\n",
    "        if (removeSuccess!=null) {\n",
    "            System.out.println(\"Removed candy with flavor sucessfully.\");\n",
    "        } else {\n",
    "            System.out.println(\"No candy with the specified flavor found.\");\n",
    "        }\n",
    "    }\n",
    "}"
   ]
  },
  {
   "attachments": {},
   "cell_type": "markdown",
   "metadata": {},
   "source": [
    "*TODO - Things to improve with overall program:\n",
    "- Part A: When the user enters the specified column, they have a chance of entering a number that is too large, which will result in a bound error, or something other than an integer, and the program will crash. I could do error checking with an if statement to make sure their input is valid.\n",
    "- Part B: My constructor sets all the candies flavor as \"emtpy\" automatically to indicate a spot with no candy. This means there’s no specified flavor and it will never choose out a desired flavored candy. I could create a function that randomly assigns some flavors for the candies, indicating that there are randomly placed candies in the box."
   ]
  }
 ],
 "metadata": {
  "kernelspec": {
   "display_name": "Java",
   "language": "java",
   "name": "java"
  },
  "language_info": {
   "codemirror_mode": "java",
   "file_extension": ".jshell",
   "mimetype": "text/x-java-source",
   "name": "Java",
   "pygments_lexer": "java",
   "version": "12.0.2+10"
  }
 },
 "nbformat": 4,
 "nbformat_minor": 2
}
