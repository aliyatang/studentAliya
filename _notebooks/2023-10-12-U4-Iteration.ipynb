{
 "cells": [
  {
   "attachments": {},
   "cell_type": "markdown",
   "metadata": {},
   "source": [
    "---\n",
    "## Iteration\n",
    "toc: true\n",
    "layout: post\n",
    "title: Iteration\n",
    "description: CB Unit 4 Lesson\n",
    "categories: []\n",
    "type: ccc\n",
    "---"
   ]
  },
  {
   "attachments": {},
   "cell_type": "markdown",
   "metadata": {},
   "source": [
    "# 4.2 - for Loops\n",
    "## What are for Loops?\n",
    "-  Iterative statement - Checks for certain condition \n",
    "- Repeatedly execute a a block of code as long as the condition is met"
   ]
  },
  {
   "attachments": {},
   "cell_type": "markdown",
   "metadata": {},
   "source": [
    "## Java for Loop Syntax\n",
    "- Three parts in for loop header: initialization, Boolean expression, and increment/decrement statement"
   ]
  },
  {
   "cell_type": "code",
   "execution_count": null,
   "metadata": {},
   "outputs": [],
   "source": [
    "for (int i = 0; i < n; i++) { \n",
    "    // whatever here\n",
    "}"
   ]
  },
  {
   "attachments": {},
   "cell_type": "markdown",
   "metadata": {},
   "source": [
    "## Popcorn Hacks\n",
    "- Calculate and print the sum of all even numbers from 1 to a given positive integer 'n' (user input n)"
   ]
  },
  {
   "cell_type": "code",
   "execution_count": null,
   "metadata": {},
   "outputs": [],
   "source": [
    "// CODE CODE CODE HERE"
   ]
  },
  {
   "cell_type": "code",
   "execution_count": 2,
   "metadata": {},
   "outputs": [
    {
     "name": "stdout",
     "output_type": "stream",
     "text": [
      "Enter a positive integer (n): 10\n",
      "\n",
      "Sum of even numbers from 1 to 10 is: 30\n"
     ]
    }
   ],
   "source": [
    "// SOLUTION\n",
    "import java.util.Scanner;\n",
    "\n",
    "public class evenNumSum {\n",
    "    public static void main(String[] args) {\n",
    "        // Scanner object for user input\n",
    "        Scanner scanner = new Scanner(System.in);\n",
    "\n",
    "        // user enter positive integer\n",
    "        System.out.print(\"Enter a positive integer (n): \");\n",
    "        int n = scanner.nextInt();\n",
    "        System.out.println(n);\n",
    "\n",
    "        // initialize sum to store\n",
    "        int sum = 0;\n",
    "\n",
    "        // for loop 1 to n\n",
    "        for (int i = 1; i <= n; i++) { // note the <= since start at 1\n",
    "            // check if n is even\n",
    "            if (i % 2 == 0) {\n",
    "                // if even, add to sum\n",
    "                sum += i;\n",
    "            }\n",
    "        }\n",
    "\n",
    "        // print sum\n",
    "        System.out.println(\"\\nSum of even numbers from 1 to \" + n + \" is: \" + sum);\n",
    "        scanner.close();\n",
    "    }\n",
    "}\n",
    "evenNumSum.main(null)"
   ]
  },
  {
   "attachments": {},
   "cell_type": "markdown",
   "metadata": {},
   "source": [
    "## Java for-each Loop\n",
    "- for-each loop used to iterate through elements of arrays and collections (e.g. ArrayList)\n",
    "- AKA enhanced for loop\n",
    "### Syntax"
   ]
  },
  {
   "cell_type": "code",
   "execution_count": null,
   "metadata": {},
   "outputs": [],
   "source": [
    "for (dataType item : array) {\n",
    "    ...\n",
    "}"
   ]
  },
  {
   "attachments": {},
   "cell_type": "markdown",
   "metadata": {},
   "source": [
    "- array: array/collection\n",
    "- item: variable each item of array/collection assigned is assigned to\n",
    "- dataType - array/collection data type"
   ]
  },
  {
   "cell_type": "code",
   "execution_count": null,
   "metadata": {},
   "outputs": [],
   "source": [
    "https://www.programiz.com/java-programming/enhanced-for-loop"
   ]
  },
  {
   "attachments": {},
   "cell_type": "markdown",
   "metadata": {},
   "source": []
  }
 ],
 "metadata": {
  "kernelspec": {
   "display_name": "Java",
   "language": "java",
   "name": "java"
  },
  "language_info": {
   "codemirror_mode": "java",
   "file_extension": ".jshell",
   "mimetype": "text/x-java-source",
   "name": "java",
   "pygments_lexer": "java",
   "version": "12.0.2+10"
  },
  "orig_nbformat": 4
 },
 "nbformat": 4,
 "nbformat_minor": 2
}
